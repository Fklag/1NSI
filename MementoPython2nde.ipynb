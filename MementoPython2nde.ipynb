{
 "cells": [
  {
   "cell_type": "markdown",
   "source": [
    "# Mémento Python (ce que je dois savoir en fin de 2nde)\n",
    "## (et même un peu plus)"
   ],
   "metadata": {}
  },
  {
   "cell_type": "markdown",
   "source": [
    "<span style=\"color: #FF0000\">**Au fil de la lecture, il faut exécuter *toutes* les cellules en appuyant sur Shift+Entrée. Pour que ce document vous soit utile, il faut aussi modifier et exécuter à nouveau les cellules pour bien comprendre le code.**</span>"
   ],
   "metadata": {}
  },
  {
   "cell_type": "markdown",
   "source": [
    "## Préambule"
   ],
   "metadata": {}
  },
  {
   "cell_type": "markdown",
   "source": [
    "Python est un *langage de programmation* qui a été choisi pour écrire des programmes afin de retranscrire des algorithmes étudiés en classe, et surtout de les exécuter.\n",
    "Il permet également de construire des graphiques, traiter des informations diverses (images, sons, textes...), faire des requêtes web, du calcul scientifique, des jeux... à peu près tout ce qu'on veut. Sauf le café."
   ],
   "metadata": {}
  },
  {
   "cell_type": "markdown",
   "source": [
    "Mis à part des calculs (beaucoup et très rapidement), un ordinateur ne sait pas faire énormément de choses...\n",
    "Il sait faire les instructions suivantes:\n",
    "- gérer des données stockées dans des variables;\n",
    "- faire des tests (entre les valeurs des variables);\n",
    "- répéter des instructions;\n",
    "- enchaîner des instructions.\n",
    "\n",
    "Et c'est (à peu près) tout.\n",
    "\n",
    "> Un ordinateur, c'est complètement con.\n",
    "\n",
    "> Programmer, c'est compliqué.\n",
    "\n",
    "Ces deux citations sont de Gérard Berry, professeur d'Informatique au collège de France. La première signifie qu'un ordinateur ne prend pas de décision, et attend des instructions somme toute assez basiques. La seconde signifie que c'est à l'être humain de traduire sa façon de penser et de résoudre en problème en une séquence de ces quelques instructions basiques. Et ce n'est pas toujours simple.\n",
    "\n",
    "Bien sûr, il faut également connaître la *syntaxe* de ces instructions, c'est-à-dire comment les écrire correctement pour que l'ordinateur puisse les interpréter sans erreur (car un ordinateur ne sait pas corriger vos erreurs, cf. citation 1).\n",
    "\n",
    "Et n'oubliez pas:\n",
    "\n",
    "> 99% des problèmes en informatique se situent entre le clavier et la chaise."
   ],
   "metadata": {}
  },
  {
   "cell_type": "markdown",
   "source": [
    "## 1 - Variables"
   ],
   "metadata": {}
  },
  {
   "cell_type": "markdown",
   "source": [
    "Écrire un programme, c'est traiter des données. Le plus souvent numériques en cours de Mathématiques ou de Physique-Chimie, elles peuvent être aussi d'autres *types* : chaîne de caractères (texte), listes (ensemble de valeurs), booléens (vrai/faux), ...\n",
    "Pour stocker, manipuler et modifier ces données au fil du programme, on crée des *variables* qui vont permettre de les nommer ces données et  d'y avoir accès simplement."
   ],
   "metadata": {}
  },
  {
   "cell_type": "markdown",
   "source": [
    "### Affectation"
   ],
   "metadata": {}
  },
  {
   "cell_type": "markdown",
   "source": [
    "Pour créer une variable, il suffit de choisir un nom (pas d'espace, ni de caractère spécial, et il ne faut pas commencer par un caractère numérique) et de lui *affecter* une valeur à l'aide du symbole `=` ."
   ],
   "metadata": {}
  },
  {
   "cell_type": "code",
   "execution_count": 2,
   "source": [
    "a = 12 # on a créé une variable nommée a et on lui a affecté la valeur numérique 12"
   ],
   "outputs": [],
   "metadata": {}
  },
  {
   "cell_type": "markdown",
   "source": [
    "Cette instruction se lit *de droite à gauche* : on met la valeur `12` dans la variable `a` : en langage naturel dans un algorithme, on écrirait : $ a \\leftarrow 12$."
   ],
   "metadata": {}
  },
  {
   "cell_type": "markdown",
   "source": [
    "On peut modifier le contenu d'une variable en faisant appel à elle-même (cela arrive même très souvent):"
   ],
   "metadata": {}
  },
  {
   "cell_type": "code",
   "execution_count": 3,
   "source": [
    "a = a + 1\n",
    "a"
   ],
   "outputs": [
    {
     "output_type": "execute_result",
     "data": {
      "text/plain": [
       "13"
      ]
     },
     "metadata": {},
     "execution_count": 3
    }
   ],
   "metadata": {}
  },
  {
   "cell_type": "markdown",
   "source": [
    "Ce qui signifie bien que le `=` d'affectation n'est pas un = mathématique !"
   ],
   "metadata": {}
  },
  {
   "cell_type": "markdown",
   "source": [
    "### Types de variables"
   ],
   "metadata": {}
  },
  {
   "cell_type": "markdown",
   "source": [
    "Dans l'exemple précédent, la variable `a` contient un nombre entier, de type `int` (pour *integer* qui signifie *entier* en anglais). On peut demander à Python le type d'une variable par la fonction `type()`."
   ],
   "metadata": {}
  },
  {
   "cell_type": "code",
   "execution_count": 4,
   "source": [
    "type(a)"
   ],
   "outputs": [
    {
     "output_type": "execute_result",
     "data": {
      "text/plain": [
       "int"
      ]
     },
     "metadata": {},
     "execution_count": 4
    }
   ],
   "metadata": {}
  },
  {
   "cell_type": "markdown",
   "source": [
    "On peut également manipuler des nombres à virgule (avec un point, notation anglo-saxonne oblige!), qui sont de type `float`."
   ],
   "metadata": {}
  },
  {
   "cell_type": "code",
   "execution_count": null,
   "source": [
    "b = 2.5\n",
    "type(b)"
   ],
   "outputs": [],
   "metadata": {}
  },
  {
   "cell_type": "markdown",
   "source": [
    "Les chaînes de caractères (du texte) se déclarent avec des guillemets (simples ou doubles, mais les doubles sont obligatoires si la chaîne comporte une apostrophe), et sont de type `str` pour *string* qui signifie *chaîne* en anglais."
   ],
   "metadata": {}
  },
  {
   "cell_type": "code",
   "execution_count": null,
   "source": [
    "c = '13'\n",
    "d = 'bonjour'\n",
    "e = \"Python, c'est de l'eau\"\n",
    "\n",
    "type(c)"
   ],
   "outputs": [],
   "metadata": {}
  },
  {
   "cell_type": "markdown",
   "source": [
    "**Attention:** il ne faut pas confondre un nombre (sans guillemets) et une chaîne de caractères constituée de caractères numériques (par exemple les variables `a` et `c` ne sont pas les mêmes, puisqu'elles ne sont pas du même type)."
   ],
   "metadata": {}
  },
  {
   "cell_type": "markdown",
   "source": [
    "Les booléens (type `bool`) sont des variables qui ne prennent que deux valeurs: `True` ou `False`."
   ],
   "metadata": {}
  },
  {
   "cell_type": "code",
   "execution_count": null,
   "source": [
    "f = True\n",
    "g = False\n",
    "\n",
    "type(f)"
   ],
   "outputs": [],
   "metadata": {}
  },
  {
   "cell_type": "markdown",
   "source": [
    "<span style=\"color: #FF0000\">**Excursion vers le programme de Première**</span> : \n",
    "\n",
    "On peut définir également des ensembles de valeurs, appelées *listes* (type `list`), en mettant ces valeurs entre crochets et en les séparant par des virgules."
   ],
   "metadata": {}
  },
  {
   "cell_type": "code",
   "execution_count": null,
   "source": [
    "h = [2, 5, 12, 3.14]\n",
    "type(h)"
   ],
   "outputs": [],
   "metadata": {}
  },
  {
   "cell_type": "markdown",
   "source": [
    "On peut alors appeler (ou modifier) un élément de la liste par son *indice*, c'est-à-dire son rang dans la liste, **en commençant à 0*."
   ],
   "metadata": {}
  },
  {
   "cell_type": "code",
   "execution_count": null,
   "source": [
    "h[1]"
   ],
   "outputs": [],
   "metadata": {}
  },
  {
   "cell_type": "code",
   "execution_count": null,
   "source": [
    "h[0] = 2020\n",
    "h"
   ],
   "outputs": [],
   "metadata": {}
  },
  {
   "cell_type": "markdown",
   "source": [
    "## 2 - Entrées/sorties"
   ],
   "metadata": {}
  },
  {
   "cell_type": "markdown",
   "source": [
    "Pour afficher dans la console le contenu d'une variable, on utilise la fonction `print()`."
   ],
   "metadata": {}
  },
  {
   "cell_type": "code",
   "execution_count": null,
   "source": [
    "print(a)\n",
    "print(c)\n",
    "print(e)\n",
    "print(g)"
   ],
   "outputs": [],
   "metadata": {}
  },
  {
   "cell_type": "code",
   "execution_count": null,
   "source": [
    "print(b, h) # on peut afficher plusieurs arguments"
   ],
   "outputs": [],
   "metadata": {}
  },
  {
   "cell_type": "code",
   "execution_count": null,
   "source": [
    "print(\"Tout va bien jusque là?\") # ou juste un texte"
   ],
   "outputs": [],
   "metadata": {}
  },
  {
   "cell_type": "code",
   "execution_count": null,
   "source": [
    "print(\"Quand on rentre en classe on dit\", d) # ou mixer un peu les deux"
   ],
   "outputs": [],
   "metadata": {}
  },
  {
   "cell_type": "markdown",
   "source": [
    "On peut également saisir une valeur tapée au clavier par l'*utilisateur*. La fonction `input()` permet de faire une pause dans l'exécution du programme, enregistrer ce qui a été entré au clavier, et reprendre l'exécution une fois que l'utilisateur a appuyé sur la touche *Entrée*.\n",
    "\n",
    "**Attention:** puisque c'est une entrée clavier, ce que renvoie `input()` est toujours une chaîne de caractères. Et il faut penser à stocker cette saisie dans une variable !"
   ],
   "metadata": {}
  },
  {
   "cell_type": "code",
   "execution_count": null,
   "source": [
    "print(\"Donne moi ton âge\")\n",
    "rep = input()\n",
    "\n",
    "type(rep)"
   ],
   "outputs": [],
   "metadata": {}
  },
  {
   "cell_type": "markdown",
   "source": [
    "**Remarque:** on peut condenser ces deux dernières lignes, car `input()` peut prendre un argument de type `str`."
   ],
   "metadata": {}
  },
  {
   "cell_type": "code",
   "execution_count": null,
   "source": [
    "rep = input(\"Donne moi ton âge\")"
   ],
   "outputs": [],
   "metadata": {}
  },
  {
   "cell_type": "markdown",
   "source": [
    "## 3 - Tests"
   ],
   "metadata": {}
  },
  {
   "cell_type": "markdown",
   "source": [
    "### Opérateurs de comparaison"
   ],
   "metadata": {}
  },
  {
   "cell_type": "markdown",
   "source": [
    "Python peut comparer le contenu de deux variables (si elles sont de même type, bien entendu): égales ou non, inférieure, supérieure... Le résultat est un booléen.\n",
    "\n",
    "Pour l'égalité, un simple `=` étant déjà réservé pour l'*affectation*, il faut **2 symboles =** pour tester l'égalité."
   ],
   "metadata": {}
  },
  {
   "cell_type": "code",
   "execution_count": null,
   "source": [
    "x = 10             # on affecte à la variable x la valeur 10 (entier)\n",
    "\n",
    "print(x == 10)     # on teste si x est égal à 10 (en tant qu'entier)\n",
    "print(x == '10')   # on teste si x est égal à 10 (en tant que chaîne de caractères)\n",
    "print(x != 10)     # on teste si x est différent de 10\n",
    "print(x <= 10)     # on teste si x est inférieur ou égal à 10\n",
    "print(x < 10)      # on teste si x est stricement inférieur à 10\n",
    "\n",
    "print(\"-------------------\")\n",
    "\n",
    "print(x > 0 and x < 9) # on teste si x est strictement supérieur à 0 et s'il est aussi strictement inférieur à 9\n",
    "print(x > 0 or x < 9) # on teste si x est strictement supérieur à 0 et s'il est aussi strictement inférieur à 9\n",
    "\n",
    "print(\"-------------------\")\n",
    "\n",
    "liste_nombres = [3, 12, 23, 78, 101]\n",
    "print(x in liste_nombres)\n",
    "print(23 in liste_nombres)"
   ],
   "outputs": [],
   "metadata": {}
  },
  {
   "cell_type": "markdown",
   "source": [
    "### Instruction conditionnelle : `if` ... `else` ..."
   ],
   "metadata": {}
  },
  {
   "cell_type": "markdown",
   "source": [
    "Cette instruction permet d'exécuter une instruction (ou un bloc d'instructions) si et seulement si une condition soit réalisée (test vrai).\n",
    "\n",
    "**Syntaxe générale:**\n",
    "\n",
    "if *condition* :\n",
    "\n",
    "    bloc d'instruction à réaliser si vrai\n",
    "\n",
    "else:\n",
    "\n",
    "    bloc d'instruction à réaliser si faux\n",
    "    \n",
    "\n",
    "**Remarques:** \n",
    "1. le bloc `else` est **facultatif**;\n",
    "2. il faut toujours `:` à la fin des lignes `if` et `else`;\n",
    "3. les blocs d'instruction doivent être *indentés* (c'est-à-dire décalés par rapport à la marge)."
   ],
   "metadata": {}
  },
  {
   "cell_type": "code",
   "execution_count": null,
   "source": [
    "n = 158643\n",
    "if n % 9 == 0 :   # l'opération % donne le résultat de la division euclidienne \n",
    "    print(n, \"est divisible par 9\")\n",
    "else:\n",
    "    print(n, \"n'est pas divisible par 9\")"
   ],
   "outputs": [],
   "metadata": {}
  },
  {
   "cell_type": "markdown",
   "source": [
    "### Instructions conditionnelles imbriquées"
   ],
   "metadata": {}
  },
  {
   "cell_type": "code",
   "execution_count": null,
   "source": [
    "annee = 2019\n",
    "if annee % 4 == 0 :\n",
    "    if (annee % 100 == 0) and (annee % 400 != 0) :\n",
    "        print(\"pas bissextile\")\n",
    "    else :\n",
    "        print(\"bissextile\")\n",
    "else :\n",
    "    print(\"pas bissextile\")"
   ],
   "outputs": [],
   "metadata": {}
  },
  {
   "cell_type": "markdown",
   "source": [
    "### Le cas du `elif`"
   ],
   "metadata": {}
  },
  {
   "cell_type": "markdown",
   "source": [
    "`elif` est une contraction de `else` et `if` : il permet d'éviter dans certains cas d'imbriquer plusieurs tests."
   ],
   "metadata": {}
  },
  {
   "cell_type": "markdown",
   "source": [
    "Le ticket d'entrée d'un musée coûte :\n",
    "\n",
    "- 0 € pour les moins de 10 ans\n",
    "- 3 € pour les personnes entre 10 et 18 ans\n",
    "- 7 € pour les plus de 18 ans\n",
    "\n",
    "Créer un code qui pour un âge a donné renvoie le prix du ticket d'entrée."
   ],
   "metadata": {}
  },
  {
   "cell_type": "code",
   "execution_count": null,
   "source": [
    "# Sans elif\n",
    "age = 10\n",
    "if age < 10 :\n",
    "    print(\"0 euro\")\n",
    "else:\n",
    "    if age < 18 :\n",
    "        print(\"3 euros\")\n",
    "    else :\n",
    "        print(\"7 euros\")"
   ],
   "outputs": [],
   "metadata": {}
  },
  {
   "cell_type": "code",
   "execution_count": null,
   "source": [
    "# Avec elif\n",
    "age = 10\n",
    "if age < 10 :\n",
    "    print(\"0 euro\")\n",
    "elif age < 18 :\n",
    "    print(\"3 euros\")\n",
    "else :\n",
    "    print(\"7 euros\")"
   ],
   "outputs": [],
   "metadata": {}
  },
  {
   "cell_type": "markdown",
   "source": [
    "## 4 - Boucles"
   ],
   "metadata": {}
  },
  {
   "cell_type": "markdown",
   "source": [
    "L'un des avantages à utiliser un ordinateur pour exécuter un algorithme, plutôt que d'effectuer des calculs à la main, c'est lorsqu'il faut *répéter* un grand nombre de fois des instructions similaires. En programmation on parle de *boucles*.\n",
    "Cela permet également d'exécuter les mêmes instructions à un grand jeu de données de départ (tableaux, images, etc).\n",
    "\n",
    "En Python, il existe deux boucles différentes: les boucle `while` (non bornées) et les boucles `for` (bornées)."
   ],
   "metadata": {}
  },
  {
   "cell_type": "markdown",
   "source": [
    "### Boucles non bornées : `while`"
   ],
   "metadata": {}
  },
  {
   "cell_type": "markdown",
   "source": [
    "On utilise une boucle *non bornée* lorsqu'on ne sait pas à l'avance combien de répétitions (ou parle aussi d'*itérations*) il va falloir effectuer, mais lorsqu'on connaît un test d'arrêt de la boucle."
   ],
   "metadata": {}
  },
  {
   "cell_type": "markdown",
   "source": [
    "Si on veut poser une question à l'utilisateur jusqu'à ce qu'il donne la bonne réponse, il faut donc la reposer **tant qu'il ne donne pas** la bonne réponse. Ici la boucle `while` va exécuter le bloc indenté siet seulement si le test «la réponse de l'utilisateur n'est pas la bonne réponse» est vrai."
   ],
   "metadata": {}
  },
  {
   "cell_type": "code",
   "execution_count": null,
   "source": [
    "rep = ''\n",
    "while rep != '56':\n",
    "    rep = input(\"Combien font 8 x 7 ?\")\n",
    "print(\"Bravo\")"
   ],
   "outputs": [],
   "metadata": {}
  },
  {
   "cell_type": "markdown",
   "source": [
    "**Deux pièges à éviter**\n",
    "1. Il faut entrer dans la boucle : le premier test doit être **vrai**.\n",
    "2. Il faut sortir de la boucle : il faut s'assurer qu'à un moment donné le test deviendra **faux**. Sinon on a créé une boucle infinie."
   ],
   "metadata": {}
  },
  {
   "cell_type": "code",
   "execution_count": null,
   "source": [
    "# Piège 1\n",
    "a = 100\n",
    "while a < 10:\n",
    "    a = a + 1\n",
    "    print(\"ce texte ne s'affichera jamais\")\n",
    "print(\"fini\")"
   ],
   "outputs": [],
   "metadata": {}
  },
  {
   "cell_type": "code",
   "execution_count": null,
   "source": [
    "# Piège 2\n",
    "a = 100\n",
    "while a == 100:\n",
    "    print(\"infinite loop\")\n",
    "\n",
    "print(\"ce texte ne s'affichera jamais\")"
   ],
   "outputs": [],
   "metadata": {}
  },
  {
   "cell_type": "markdown",
   "source": [
    "### Boucles bornées: `for`"
   ],
   "metadata": {}
  },
  {
   "cell_type": "markdown",
   "source": [
    "On utilise une boucle `for` lorsqu'on veut faire parcourir à une variable un ensemble de valeurs bien déterminé. A contrario d'une boucle `while`, on sait donc combien d'itérations vont se produire : le nombre d'éléments de l'ensemble.\n",
    "\n",
    "L'ensemble de valeurs doit être *énumérable* : une chaîne de caractères, une liste, un `range()`."
   ],
   "metadata": {}
  },
  {
   "cell_type": "code",
   "execution_count": null,
   "source": [
    "for k in \"Python\":\n",
    "    print(k)"
   ],
   "outputs": [],
   "metadata": {}
  },
  {
   "cell_type": "code",
   "execution_count": null,
   "source": [
    "for i in [3, 12, 23, 78, 10.1, \"coucou\"]:\n",
    "    print(i)"
   ],
   "outputs": [],
   "metadata": {}
  },
  {
   "cell_type": "code",
   "execution_count": null,
   "source": [
    "# décodage d'un texte donné sous forme d'une liste de codes ASCII\n",
    "mystere = [111, 107, 44, 32, 98, 105, 101, 110, 32, 106, 111, 117, 233]\n",
    "s = \"\"\n",
    "for k in mystere:\n",
    "    s = s + chr(k)          # la fonction chr() renvoie le caractère associé à un code ASCII\n",
    "print(s)"
   ],
   "outputs": [],
   "metadata": {}
  },
  {
   "cell_type": "markdown",
   "source": [
    "### Génération d'une liste d'entiers consécutif avec `range()`"
   ],
   "metadata": {}
  },
  {
   "cell_type": "markdown",
   "source": [
    "Dans la plupart des situations où une boucle `for` intervient en Mathématiques, on a besoin de répéter un certain nombre de fois connu à l'avance un bloc d'instruction. On a donc besoin d'un ensemble de valeurs du type `[1, 2, 3, ..., n]` où `n` est le nombre de répétition souhaité.\n",
    "\n",
    "La variable qui va parcourir cet ensemble est donc tout simplement un *compteur* du nombre de tours de la boucle.\n",
    "\n",
    "En Python, la fonction `range(start, end, step)` permet de générer ce genre de séquences numériques avec comme paramètres:\n",
    "- `start` : l'entier de départ ( 0 par défaut);\n",
    "- `end` : l'arrêt de fin mais cette valeur n'est jamais prise, on s'arrête avant !\n",
    "- `step` : le pas de progression ( 1 par défaut)\n",
    "\n",
    "Dans la plupart des cas, on utilise simplement cette fonction avec `end` seulement (les deux autres étant facultatifs). Par exemple, pour générer 10 entiers consécutifs (en partant de 0), on utilise `range(10)`."
   ],
   "metadata": {}
  },
  {
   "cell_type": "code",
   "execution_count": null,
   "source": [
    "for k in range(10): # équivalent donc à range(0, 10, 1)\n",
    "    print(k)"
   ],
   "outputs": [],
   "metadata": {}
  },
  {
   "cell_type": "code",
   "execution_count": null,
   "source": [
    "for k in range(4, 10):  # on précise start, pas step\n",
    "    print(k)"
   ],
   "outputs": [],
   "metadata": {}
  },
  {
   "cell_type": "code",
   "execution_count": null,
   "source": [
    "for k in range(4, 10, 2):\n",
    "    print(k)"
   ],
   "outputs": [],
   "metadata": {}
  },
  {
   "cell_type": "markdown",
   "source": [
    "**Remarque:**  dans les exemples précédents, on s'est contenté d'afficher la variable `k` qui parcourt l'ensemble de valeurs. Parfois il est nécessaire de s'en servir, et parfois cette variable n'intervient pas dans le bloc d'instruction répété, c'est un simple compteur."
   ],
   "metadata": {}
  },
  {
   "cell_type": "code",
   "execution_count": null,
   "source": [
    "# affichage des 10 premiers nombres carrés: on a besoin de k\n",
    "for k in range(10):\n",
    "    print(k**2)"
   ],
   "outputs": [],
   "metadata": {}
  },
  {
   "cell_type": "code",
   "execution_count": null,
   "source": [
    "# calcul d'une puissance de 2 : on n'a pas besoin de k\n",
    "n = 12\n",
    "p = 1\n",
    "for k in range(n):\n",
    "    p = p * 2\n",
    "print(p)"
   ],
   "outputs": [],
   "metadata": {}
  },
  {
   "cell_type": "markdown",
   "source": [
    "**Remarque:** en Mathématiques, on a l'habitude de noter ces variables (appelées aussi indices) avec les lettres i, j ou k. Mais cela n'est pas du tout obligatoire, cela fonctionne avec n'importe quel nom de variable, bien évidemment. Il est même plutôt conseillé d'adopter des noms de variables plus explicites."
   ],
   "metadata": {}
  },
  {
   "cell_type": "code",
   "execution_count": null,
   "source": [
    "for lettre in \"Maths\":\n",
    "    print(50 * lettre)"
   ],
   "outputs": [],
   "metadata": {}
  },
  {
   "cell_type": "code",
   "execution_count": null,
   "source": [
    "for toto in ['Tahar', 'Omar', 'Guillaume', 'Swann', 'Alex', 'Roschdy']:\n",
    "    print(toto, \"a eu le César du meilleur acteur\")"
   ],
   "outputs": [],
   "metadata": {}
  },
  {
   "cell_type": "markdown",
   "source": [
    "### Boucles imbriquées (double boucle)"
   ],
   "metadata": {}
  },
  {
   "cell_type": "markdown",
   "source": [
    "Imbriquer deux boucles, c'est en mettre une dans l'autre. Cela signifie qu'à chaque tour de la première, on va effectuer la totalité de la deuxième. Dans l'exemple suivant il y a donc $3\\times5=15$ répétitions."
   ],
   "metadata": {}
  },
  {
   "cell_type": "code",
   "execution_count": null,
   "source": [
    "for a in range(3): # a va valoir 0, puis 1, puis 2\n",
    "    for b in range(5): # b va valoir 0, puis 1, puis 2, puis 3, puis 4\n",
    "        print(a, \" fois \", b, \" égale \", a * b)"
   ],
   "outputs": [],
   "metadata": {}
  },
  {
   "cell_type": "markdown",
   "source": [
    "**Remarque:** c'est particulièrement pratique pour parcourir des tableaux de nombres, comme par exemple des images."
   ],
   "metadata": {}
  },
  {
   "cell_type": "markdown",
   "source": [
    "## 5 - Fonctions"
   ],
   "metadata": {}
  },
  {
   "cell_type": "markdown",
   "source": [
    "La notion de fonction est essentielle en programmation.\n",
    "Elle permet de construire des codes modulaires, plus faciles à lire et à modifier.\n",
    "En Python, une fonction se crée avec le mot-clé `def`. Dans la plupart des cas, une fonction informatique ressemble fortement à une fonction mathématique: elle prend une valeur en paramètre et renvoie une valeur (image).\n",
    "\n",
    "Dans certains cas, elle peut ne pas prendre de paramètre ou ne pas renvoyer de valeur."
   ],
   "metadata": {}
  },
  {
   "cell_type": "markdown",
   "source": [
    "### Fonction avec paramètre"
   ],
   "metadata": {}
  },
  {
   "cell_type": "code",
   "execution_count": null,
   "source": [
    "def chat_penible(n):\n",
    "    for k in range(n):\n",
    "        print(\"meoww\")"
   ],
   "outputs": [],
   "metadata": {}
  },
  {
   "cell_type": "markdown",
   "source": [
    "Cette fonction ne fera rien tant qu'on ne l'appelera pas, en précisant une valeur:"
   ],
   "metadata": {}
  },
  {
   "cell_type": "code",
   "execution_count": null,
   "source": [
    "chat_penible(5)"
   ],
   "outputs": [],
   "metadata": {}
  },
  {
   "cell_type": "markdown",
   "source": [
    "Cette fonction prend un paramètre (`n`), mais ne renvoie pas de valeur, elle se contente d'afficher.\n",
    "\n",
    "C'est-à-dire qu'on ne peut affecter le résultat de cette fonction à une variable."
   ],
   "metadata": {}
  },
  {
   "cell_type": "code",
   "execution_count": null,
   "source": [
    "var = chat_penible(3)"
   ],
   "outputs": [],
   "metadata": {}
  },
  {
   "cell_type": "code",
   "execution_count": null,
   "source": [
    "print(var)"
   ],
   "outputs": [],
   "metadata": {}
  },
  {
   "cell_type": "markdown",
   "source": [
    "Pour renvoyer une valeur, on utilise le mot-clé `return`."
   ],
   "metadata": {}
  },
  {
   "cell_type": "code",
   "execution_count": null,
   "source": [
    "# une première fonction très mathématique\n",
    "def f(x):\n",
    "    return x**2+3\n",
    "\n",
    "# une autre un peu moins\n",
    "def metdesapartout(texte):\n",
    "    resultat = ''\n",
    "    for l in texte:\n",
    "        if l in ['e', 'i', 'o', 'u', 'y']:\n",
    "            resultat = resultat + 'a'\n",
    "        else:\n",
    "            resultat = resultat + l\n",
    "    return resultat\n",
    "\n",
    "image = f(12)\n",
    "print(image)\n",
    "\n",
    "phrase = metdesapartout(\"la programmation c'est rigolo, non?\")\n",
    "print(phrase)"
   ],
   "outputs": [],
   "metadata": {}
  },
  {
   "cell_type": "markdown",
   "source": [
    "### Fonction sans paramètre"
   ],
   "metadata": {}
  },
  {
   "cell_type": "markdown",
   "source": [
    "Parfois, une fonction peut ne pas prendre de paramètre. Les `()`, même vides, sont alors obligatoires pour appeler cette fonction."
   ],
   "metadata": {}
  },
  {
   "cell_type": "code",
   "execution_count": null,
   "source": [
    "from random import randint\n",
    "\n",
    "def lancer_de_truque():\n",
    "    face = randint(1, 20)\n",
    "    if face <= 5:\n",
    "        return face\n",
    "    else:\n",
    "        return 6"
   ],
   "outputs": [],
   "metadata": {}
  },
  {
   "cell_type": "code",
   "execution_count": null,
   "source": [
    "for i in range(10):\n",
    "    print(lancer_de_truque())"
   ],
   "outputs": [],
   "metadata": {}
  },
  {
   "cell_type": "markdown",
   "source": [
    "## 6 - Erreurs"
   ],
   "metadata": {}
  },
  {
   "cell_type": "markdown",
   "source": [
    "Lorsqu'on programme, on fait toujours des erreurs. Même les développeurs professionnels. La plupart de ces erreurs sont des erreurs de frappe, d'étourderie, et d'autres de conception. Dans tout les cas, il faut apprendre à lire ces messages d'erreurs, de quels types (syntaxe, indentation, ...) pour apprendre à s'auto-corriger.\n",
    "\n",
    "Car programmer, c'est test/échec jusqu'à ce que ça marche !\n",
    "\n",
    "Voici le podium des erreurs fréquemment commises et qu'il faut savoir corriger."
   ],
   "metadata": {}
  },
  {
   "cell_type": "markdown",
   "source": [
    "### Syntax error"
   ],
   "metadata": {}
  },
  {
   "cell_type": "markdown",
   "source": [
    "La plus fréquente: l'ordinateur ne comprend pas ce que vous avez écrit, car il y a un oubli de `:`  ou des parenthèses/crochets mal refermés, un oubli de guillemets, une confusion = / =="
   ],
   "metadata": {}
  },
  {
   "cell_type": "code",
   "execution_count": null,
   "source": [
    "# corriger les 3 erreurs de syntaxe\n",
    "rep = input(\"comment tu t'appelles ?\")\n",
    "if rep = \"Marguerite de Valois\":\n",
    "    print(\"Menteur/se\")"
   ],
   "outputs": [],
   "metadata": {}
  },
  {
   "cell_type": "markdown",
   "source": [
    "### Name error"
   ],
   "metadata": {}
  },
  {
   "cell_type": "markdown",
   "source": [
    "Fréquemment aussi , il y a une erruer de farppe dans votre code. Ou bien vous parlez d'une variable qui n'existe pas."
   ],
   "metadata": {}
  },
  {
   "cell_type": "code",
   "execution_count": null,
   "source": [
    "# corriger les 3 erreurs de noms indéfinis\n",
    "n = int(imput(\"donne-moi un nombre \"))\n",
    "\n",
    "if nombre%2 == 0:\n",
    "    pint(\"il est pair\")\n",
    "else:\n",
    "    print(\"il est impair\")\n"
   ],
   "outputs": [],
   "metadata": {}
  },
  {
   "cell_type": "markdown",
   "source": [
    "### Indentation error"
   ],
   "metadata": {}
  },
  {
   "cell_type": "markdown",
   "source": [
    "Tout simplement, l'indentation n'est pas bonne (soit elle est oubliée, soit il n'en faut pas, soit elle n'est pas au bon niveau). Pour éviter de telles erreurs, il faut toujours utiliser la touche *Tabulation* et jamais les espaces."
   ],
   "metadata": {}
  },
  {
   "cell_type": "code",
   "execution_count": null,
   "source": [
    "# corriger les 3 erreurs d'indentation\n",
    "\n",
    "for k in range(3):\n",
    "    print(\"allez courage c'est fini\")\n",
    "\n",
    "rep = input(\"ça vous a plu?\")\n",
    "\n",
    " if rep == \"oui\":\n",
    "    print(\"tant mieux\")\n",
    "  else:\n",
    "     print(\"tant pis\")\n"
   ],
   "outputs": [],
   "metadata": {}
  },
  {
   "cell_type": "markdown",
   "source": [
    "## 7 - Quelques programmes à connaître"
   ],
   "metadata": {}
  },
  {
   "cell_type": "markdown",
   "source": [
    "### Calcul d'une somme"
   ],
   "metadata": {}
  },
  {
   "cell_type": "code",
   "execution_count": null,
   "source": [
    "## Calcul de la somme des nombre entiers jusqu'à une valeur n\n",
    "# version sans fonction\n",
    "n = 78\n",
    "s = 0\n",
    "for k in range(1, n+1):\n",
    "    s = s + k\n",
    "print(s)\n",
    "\n",
    "# version avec fonction\n",
    "def somme(n):\n",
    "    s = 0\n",
    "    for k in range(1, n+1):\n",
    "        s = s + k\n",
    "    return s\n",
    "print(somme(78))\n",
    "        "
   ],
   "outputs": [],
   "metadata": {}
  },
  {
   "cell_type": "markdown",
   "source": [
    "On peut modifier ce programme pour calculer maintenant d'autres sommes: la somme des carrés des entiers, la somme des nombres (im)pairs, etc..."
   ],
   "metadata": {}
  },
  {
   "cell_type": "code",
   "execution_count": null,
   "source": [
    "# Calcul de la somme des carrés\n",
    "def somme_carres(n):\n",
    "    s = 0\n",
    "    for k in range(1, n+1):\n",
    "        s = s + k**2\n",
    "    return s\n",
    "\n",
    "print(somme_carres(78))\n",
    "\n",
    "# Calcul de la somme des nombres impairs\n",
    "def somme_impairs(n):\n",
    "    s = 0\n",
    "    for k in range(1, n+1):\n",
    "        if k%2 != 0:\n",
    "            s = s + k\n",
    "    return s\n",
    "\n",
    "print(somme_impairs(78))\n"
   ],
   "outputs": [],
   "metadata": {}
  },
  {
   "cell_type": "markdown",
   "source": [
    "### Diviseurs d'un nombre"
   ],
   "metadata": {}
  },
  {
   "cell_type": "markdown",
   "source": [
    "On applique l'algorithme utilisé à la main pour trouver les diviseurs d'un nombre: on teste si le nombre est divisible par tous les nombres plus petits, en commençant par 1 et en s'arrêtant à sa racine carrée. Quand on trouve un diviseur, on en trouve en fait 2 (le quotient l'est aussi):"
   ],
   "metadata": {}
  },
  {
   "cell_type": "code",
   "execution_count": null,
   "source": [
    "from math import sqrt # on importe la fonction racine carrée\n",
    "\n",
    "n = 180\n",
    "racineCarree = int(sqrt(n)) # on arrondit la racine carrée\n",
    "for diviseur in range(1, racineCarree + 1): # on parcourt tous les nombres de 1 jusuq'à la racine carrée de n\n",
    "    if n % diviseur == 0:                   # si n est divisible (le reste est nul)\n",
    "        print(diviseur, n // diviseur)      # on affiche les deux diviseurs trouvés\n",
    "    "
   ],
   "outputs": [],
   "metadata": {}
  },
  {
   "cell_type": "markdown",
   "source": [
    "### Algorithme de seuil"
   ],
   "metadata": {}
  },
  {
   "cell_type": "markdown",
   "source": [
    "Un algorithme de **seuil** est un algorithme où on cherche combien de fois on doit répéter un calcul pour dépasser une certaine valeur (le seuil).\n",
    "\n",
    "Il faut donc utiliser une boucle `while` puisqu'on ne sait pas combien de répétitions sont nécessaires (c'est justement ce qu'on cherche) et une variable *compteur* qui, comme son nom l'indique, a pour rôle de compter le nombre de répétitions.\n",
    "\n",
    "On a par exemple traité ce type d'algorithme dans l'exercice \"Tour Eiffel\":"
   ],
   "metadata": {}
  },
  {
   "cell_type": "code",
   "execution_count": null,
   "source": [
    "epaisseur = 0.1\n",
    "pliages = 0 # c'est la variable \"compteur\"\n",
    "while epaisseur < 324000:  #ici, le seuil est la hauteur de la Tour Eiffel\n",
    "    epaisseur = epaisseur * 2   # le calcul répété est un doublement\n",
    "    pliages = pliages + 1       # on augmente notre compteur de 1 à chaque passage dans la boucle\n",
    "\n",
    "print(\"Il faut {} pliages.\".format(pliages))"
   ],
   "outputs": [],
   "metadata": {}
  },
  {
   "cell_type": "markdown",
   "source": [
    "**Un autre exemple:**\n",
    "\n",
    "Lors d'une crise financière, le cours d'une action baisse de 5% par jour. Au bout de combien de temps vaut-elle la moitié de sa valeur de départ (qu'on peut choisir) arbitrairement)?"
   ],
   "metadata": {}
  },
  {
   "cell_type": "code",
   "execution_count": null,
   "source": [
    "action_depart = 10      # on fixe par exemple le cours de l'action à 10€\n",
    "action = action_depart  # la variable donnant le cours de l'action jour par jour\n",
    "jours = 0               # le compteur\n",
    "while action >= action_depart / 2:\n",
    "    action = action * 0.95\n",
    "    jours = jours + 1\n",
    "    \n",
    "print(\"Il faut {} jours pour que l'action soit inférieure à la moitié de sa valeur initiale\".format(jours))"
   ],
   "outputs": [],
   "metadata": {}
  },
  {
   "cell_type": "markdown",
   "source": [
    "### Créer une fonction mathématique"
   ],
   "metadata": {}
  },
  {
   "cell_type": "markdown",
   "source": [
    "Pour créer les fonctions:\n",
    "$$ f(x) = 3x +1$$\n",
    "\n",
    "$$ g(x) = -3x^2+5x-6$$\n",
    "\n",
    "$$ h(x) = \\frac{\\sqrt{x}}{2x-1}$$"
   ],
   "metadata": {}
  },
  {
   "cell_type": "code",
   "execution_count": null,
   "source": [
    "def f(x):\n",
    "    return 3*x + 1\n",
    "\n",
    "def g(x):\n",
    "    return -3*x**2 + 5*x - 6\n",
    "\n",
    "from math import sqrt\n",
    "def h(x):\n",
    "    return sqrt(x) / (2*x - 1)"
   ],
   "outputs": [],
   "metadata": {}
  }
 ],
 "metadata": {
  "anaconda-cloud": {},
  "kernelspec": {
   "display_name": "Python 3",
   "language": "python",
   "name": "python3"
  },
  "language_info": {
   "codemirror_mode": {
    "name": "ipython",
    "version": 3
   },
   "file_extension": ".py",
   "mimetype": "text/x-python",
   "name": "python",
   "nbconvert_exporter": "python",
   "pygments_lexer": "ipython3",
   "version": "3.8.10"
  }
 },
 "nbformat": 4,
 "nbformat_minor": 4
}