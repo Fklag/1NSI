{
 "cells": [
  {
   "cell_type": "markdown",
   "source": [
    "# 6.1 Variables\n",
    "# Fiche d'exercices\n",
    "\n",
    "Dans tous les exercices suivants, anticipez la valeur contenue dans chaque variable à la fin du programme. Vérifiez ensuite en exécutant le code (`CTRL+ENTER`)."
   ],
   "metadata": {}
  },
  {
   "cell_type": "markdown",
   "source": [
    "## Exercice 1: affichage"
   ],
   "metadata": {}
  },
  {
   "cell_type": "code",
   "execution_count": null,
   "source": [
    "a = 2\n",
    "b = a + 1\n",
    "a = 5\n",
    "c = 3 * a \n",
    "\n",
    "print(a, b, c)"
   ],
   "outputs": [],
   "metadata": {}
  },
  {
   "cell_type": "markdown",
   "source": [
    "**Remarque:** vous l'aurez compris, la fonction `print` sert à afficher une ou plusieurs variables (ou tout simplement une valeur)... À utiliser avec parcimonie, mais diablement utile pour déboguer un programme. Mais ça, c'est une autre histoire..."
   ],
   "metadata": {}
  },
  {
   "cell_type": "markdown",
   "source": [
    "## Exercice 2: incrémentation"
   ],
   "metadata": {}
  },
  {
   "cell_type": "code",
   "execution_count": null,
   "source": [
    "a = 2\n",
    "a = a + 1\n",
    "a = a + 1\n",
    "a = a + 1\n",
    "\n",
    "print(a)"
   ],
   "outputs": [],
   "metadata": {}
  },
  {
   "cell_type": "markdown",
   "source": [
    "**Remarque:** ajouter 1 (ou un autre valeur entière fixée) à une variable, de façon répétitive, s'appelle **incrémenter** la variable."
   ],
   "metadata": {}
  },
  {
   "cell_type": "markdown",
   "source": [
    "## Exercice 3: échange?"
   ],
   "metadata": {}
  },
  {
   "cell_type": "code",
   "execution_count": null,
   "source": [
    "a = 1\n",
    "b = 2\n",
    "a = b\n",
    "b = a\n",
    "\n",
    "print(a, b)"
   ],
   "outputs": [],
   "metadata": {}
  },
  {
   "cell_type": "markdown",
   "source": [
    "Comment modifier le code précédent pour vraiment échanger les valeurs des variables `a` et `b`?"
   ],
   "metadata": {}
  },
  {
   "cell_type": "markdown",
   "source": [
    "## Exercice 4: opérations\n",
    "\n",
    "Même consigne, avec un peu de calculs. Pour vous aider:\n",
    "\n",
    "| Opérateur | Symbole Python| | Opérateur | Symbole Python| \n",
    "|:---------:|:-------------:| |:---------:|:-------------:|\n",
    "| Addition | `+` |            | Puissance | `**` |\n",
    "| Soustraction | `-` |        | Quotient de la division | `//` |\n",
    "| Multiplication | `*` |    | Reste de la division | `%` |\n",
    "| Division | `/` |            | ||"
   ],
   "metadata": {}
  },
  {
   "cell_type": "code",
   "execution_count": 3,
   "source": [
    "a = 2\n",
    "b = 15\n",
    "c = 6\n",
    "d = (b%c) ** 2\n",
    "e = b/c - b//c\n",
    "\n",
    "print(d, e)"
   ],
   "outputs": [
    {
     "output_type": "stream",
     "name": "stdout",
     "text": [
      "9 0.5\n"
     ]
    }
   ],
   "metadata": {}
  },
  {
   "cell_type": "markdown",
   "source": [
    "## Exercice 5: mélange de types...\n",
    "Dans cet exercice, prévoir également le type de la variable."
   ],
   "metadata": {}
  },
  {
   "cell_type": "code",
   "execution_count": null,
   "source": [
    "a = 3 + 2.0\n",
    "b = 6 / 2\n",
    "c = 6 // 2\n",
    "d = 1.5 ** 3\n",
    "e = \"py\" + \"thon\"\n",
    "f = 3 * \"miaou\"\n",
    "g = 2 + \"a\"\n"
   ],
   "outputs": [],
   "metadata": {}
  },
  {
   "cell_type": "markdown",
   "source": [
    "## Exercice 6: commentaires\n",
    "\n",
    "Avec Python, tout ce qui suit le caractère dièse `#` (`ALTGR+3`) n'est pas interprété.\n",
    "On parle de **commentaire**.\n",
    "\n",
    "En programmation, il y a deux usages:\n",
    "\n",
    "- documenter/expliquer son code, pour faciliter la lecture (par soi plus tard, ou par quelquu'un d'autre);\n",
    "- ne pas exécuter des lignes de code sans les supprimer (on pourra les décommenter en supprimant simplement le `#`), notamment en phase de debug.\n"
   ],
   "metadata": {}
  },
  {
   "cell_type": "code",
   "execution_count": 1,
   "source": [
    "# L'exécution de ce code va provoquer une erreur.\n",
    "# Essayez de deviner quelle instruction est fautive et commentez la ligne.\n",
    "# Vérifiez en exécutant la cellule\n",
    "\n",
    "lisa = 2\n",
    "marge = 5\n",
    "bart = lisa + 2*marge\n",
    "maggie = bart / (10 - 2*marge)\n",
    "homer = bart * \"D'oh!\"\n"
   ],
   "outputs": [
    {
     "output_type": "error",
     "ename": "ZeroDivisionError",
     "evalue": "division by zero",
     "traceback": [
      "\u001b[0;31m---------------------------------------------------------------------------\u001b[0m",
      "\u001b[0;31mZeroDivisionError\u001b[0m                         Traceback (most recent call last)",
      "\u001b[0;32m<ipython-input-1-2c14027229b9>\u001b[0m in \u001b[0;36m<module>\u001b[0;34m\u001b[0m\n\u001b[1;32m      6\u001b[0m \u001b[0mmarge\u001b[0m \u001b[0;34m=\u001b[0m \u001b[0;36m5\u001b[0m\u001b[0;34m\u001b[0m\u001b[0;34m\u001b[0m\u001b[0m\n\u001b[1;32m      7\u001b[0m \u001b[0mbart\u001b[0m \u001b[0;34m=\u001b[0m \u001b[0mlisa\u001b[0m \u001b[0;34m+\u001b[0m \u001b[0;36m2\u001b[0m\u001b[0;34m*\u001b[0m\u001b[0mmarge\u001b[0m\u001b[0;34m\u001b[0m\u001b[0;34m\u001b[0m\u001b[0m\n\u001b[0;32m----> 8\u001b[0;31m \u001b[0mmaggie\u001b[0m \u001b[0;34m=\u001b[0m \u001b[0mbart\u001b[0m \u001b[0;34m/\u001b[0m \u001b[0;34m(\u001b[0m\u001b[0;36m10\u001b[0m \u001b[0;34m-\u001b[0m \u001b[0;36m2\u001b[0m\u001b[0;34m*\u001b[0m\u001b[0mmarge\u001b[0m\u001b[0;34m)\u001b[0m\u001b[0;34m\u001b[0m\u001b[0;34m\u001b[0m\u001b[0m\n\u001b[0m\u001b[1;32m      9\u001b[0m \u001b[0mhomer\u001b[0m \u001b[0;34m=\u001b[0m \u001b[0mbart\u001b[0m \u001b[0;34m*\u001b[0m \u001b[0;34m\"D'oh!\"\u001b[0m\u001b[0;34m\u001b[0m\u001b[0;34m\u001b[0m\u001b[0m\n",
      "\u001b[0;31mZeroDivisionError\u001b[0m: division by zero"
     ]
    }
   ],
   "metadata": {}
  }
 ],
 "metadata": {
  "interpreter": {
   "hash": "916dbcbb3f70747c44a77c7bcd40155683ae19c65e1c03b4aa3499c5328201f1"
  },
  "kernelspec": {
   "name": "python3",
   "display_name": "Python 3.8.10 64-bit"
  },
  "language_info": {
   "codemirror_mode": {
    "name": "ipython",
    "version": 3
   },
   "file_extension": ".py",
   "mimetype": "text/x-python",
   "name": "python",
   "nbconvert_exporter": "python",
   "pygments_lexer": "ipython3",
   "version": "3.8.10"
  }
 },
 "nbformat": 4,
 "nbformat_minor": 2
}