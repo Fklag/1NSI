{
 "cells": [
  {
   "cell_type": "markdown",
   "source": [
    "# 6.1.2 Boucle `for`\n",
    "# Fiche d'exercices"
   ],
   "metadata": {}
  },
  {
   "cell_type": "markdown",
   "source": [
    "## Exercice 1\n",
    "On donne une liste d'acteurs. Utilisez cette liste pour produire la sortie suivante:\n",
    "\n",
    "```python\n",
    "Tahar a eu le César du meilleur acteur\n",
    "Omar a eu le César du meilleur acteur\n",
    "Guillaume a eu le César du meilleur acteur\n",
    "Swann a eu le César du meilleur acteur\n",
    "Alex a eu le César du meilleur acteur\n",
    "Roschdy a eu le César du meilleur acteur\n",
    "```\n"
   ],
   "metadata": {}
  },
  {
   "cell_type": "code",
   "execution_count": null,
   "source": [
    "liste_acteurs = ['Tahar', 'Omar', 'Guillaume', 'Swann', 'Alex', 'Roschdy']"
   ],
   "outputs": [],
   "metadata": {}
  },
  {
   "cell_type": "markdown",
   "source": [
    "## Exercice 2\n",
    "Produire la sortie:\n",
    "\n",
    "```\n",
    "IIIIIIIIIIIIIIIIIIIIIIIIIIIIIIIIIIIIIIIIIIIIIIIIIIIIIIIIIIIIIIIIIIIIIIIIIIIIIIII\n",
    "NNNNNNNNNNNNNNNNNNNNNNNNNNNNNNNNNNNNNNNNNNNNNNNNNNNNNNNNNNNNNNNNNNNNNNNNNNNNNNNN\n",
    "FFFFFFFFFFFFFFFFFFFFFFFFFFFFFFFFFFFFFFFFFFFFFFFFFFFFFFFFFFFFFFFFFFFFFFFFFFFFFFFF\n",
    "OOOOOOOOOOOOOOOOOOOOOOOOOOOOOOOOOOOOOOOOOOOOOOOOOOOOOOOOOOOOOOOOOOOOOOOOOOOOOOOO\n",
    "```\n",
    "\n",
    "\n",
    "(il y a 80 caractères par ligne)"
   ],
   "metadata": {}
  },
  {
   "cell_type": "code",
   "execution_count": null,
   "source": [],
   "outputs": [],
   "metadata": {}
  },
  {
   "cell_type": "markdown",
   "source": [
    "## Exercice 3\n",
    "\n",
    "Dans l'extrait de code suivant:\n",
    "\n",
    "- `chaine` est une variable initialisée avec un `str` vide : `\"\"`;\n",
    "- on veut qu'en sortie de programme cette variable contienne la valeur `'aeiouy'`.\n",
    "\n",
    "Compléter le code."
   ],
   "metadata": {}
  },
  {
   "cell_type": "code",
   "execution_count": null,
   "source": [
    "chaine = \"\"\n",
    "for  in ['a', 'e', 'i', 'o', 'u', 'y']"
   ],
   "outputs": [],
   "metadata": {}
  },
  {
   "cell_type": "markdown",
   "source": [
    "## Exercice 4\n",
    "\n",
    "En Python, la fonction `ord` renvoie le code Unicode d'un caractère et la fonction `chr` le contraire: elle renvoie le caractère correspondant à un code Unicode.\n",
    "\n",
    "Par exemple:\n"
   ],
   "metadata": {}
  },
  {
   "cell_type": "code",
   "execution_count": 1,
   "source": [
    "ord('a')"
   ],
   "outputs": [
    {
     "output_type": "execute_result",
     "data": {
      "text/plain": [
       "97"
      ]
     },
     "metadata": {},
     "execution_count": 1
    }
   ],
   "metadata": {}
  },
  {
   "cell_type": "code",
   "execution_count": 2,
   "source": [
    "chr(97)"
   ],
   "outputs": [
    {
     "output_type": "execute_result",
     "data": {
      "text/plain": [
       "'a'"
      ]
     },
     "metadata": {},
     "execution_count": 2
    }
   ],
   "metadata": {}
  },
  {
   "cell_type": "markdown",
   "source": [
    "Voici une liste contenant les codes Unicode des lettres d'un mot secret...\n",
    "À vous d'écrire un programme où en sortie, la variable `mot_secret` contiendra la chaîne de caractères de ce mot.   "
   ],
   "metadata": {}
  },
  {
   "cell_type": "code",
   "execution_count": null,
   "source": [
    "mystere = [111, 107, 44, 32, 98, 105, 101, 110, 32, 106, 111, 117, 233]\n",
    "mot_secret = \"\""
   ],
   "outputs": [],
   "metadata": {}
  },
  {
   "cell_type": "markdown",
   "source": [
    "## Exercice 5\n",
    "\n",
    "Dans la cellule suivante, modifier les paramètres de `range` pour obtenir successivement:\n",
    "\n",
    "1. `[0, 1, 2, 3, 4]`\n",
    "1. `[0, 1, 2, 3, 4, 5, 6, 7, 8, 9, 10 ,11, 12]`\n",
    "1. `[0, 1 ,2, 3, ..., 100]`\n",
    "1. `[1, 2, 3, 4, ...,  50]`\n",
    "1. `[10, 11, 12, 13, 14, 15, 16, 17, 18, 19, 20]`\n",
    "1. `[0, 5, 10, 15, 20, 25, 30]`\n",
    "1. `[10, 12, 14, 16, 18]`\n",
    "2. `[20, 18, 16, 14, 12, 10, 8, 6, 4, 2]`"
   ],
   "metadata": {}
  },
  {
   "cell_type": "code",
   "execution_count": null,
   "source": [
    "list(range())"
   ],
   "outputs": [],
   "metadata": {}
  }
 ],
 "metadata": {
  "orig_nbformat": 4,
  "language_info": {
   "name": "python",
   "version": "3.8.10",
   "mimetype": "text/x-python",
   "codemirror_mode": {
    "name": "ipython",
    "version": 3
   },
   "pygments_lexer": "ipython3",
   "nbconvert_exporter": "python",
   "file_extension": ".py"
  },
  "kernelspec": {
   "name": "python3",
   "display_name": "Python 3.8.10 64-bit"
  },
  "interpreter": {
   "hash": "916dbcbb3f70747c44a77c7bcd40155683ae19c65e1c03b4aa3499c5328201f1"
  }
 },
 "nbformat": 4,
 "nbformat_minor": 2
}